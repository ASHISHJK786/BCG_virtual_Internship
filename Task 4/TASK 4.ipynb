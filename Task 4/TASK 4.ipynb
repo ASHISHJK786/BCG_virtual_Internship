{
 "cells": [
  {
   "cell_type": "markdown",
   "id": "c369bbee",
   "metadata": {},
   "source": [
    "# Import necessary libraries\n"
   ]
  },
  {
   "cell_type": "code",
   "execution_count": 2,
   "id": "7ad428d3",
   "metadata": {},
   "outputs": [],
   "source": [
    "pip uninstall numpy\n"
   ]
  },
  {
   "cell_type": "code",
   "execution_count": null,
   "id": "a0170586",
   "metadata": {},
   "outputs": [],
   "source": [
    "# This will display your plots inline\n",
    "%matplotlib inline"
   ]
  },
  {
   "cell_type": "code",
   "execution_count": 1,
   "id": "af318b65",
   "metadata": {},
   "outputs": [
    {
     "name": "stdout",
     "output_type": "stream",
     "text": [
      "Collecting numpy\n",
      "  Obtaining dependency information for numpy from https://files.pythonhosted.org/packages/94/7a/4c00332a3ca79702bbc86228afd0e84e6f91b47222ec8cdf00677dd16481/numpy-2.1.1-cp311-cp311-win_amd64.whl.metadata\n",
      "  Downloading numpy-2.1.1-cp311-cp311-win_amd64.whl.metadata (59 kB)\n",
      "     ---------------------------------------- 0.0/59.7 kB ? eta -:--:--\n",
      "     ------------- ------------------------ 20.5/59.7 kB 330.3 kB/s eta 0:00:01\n",
      "     -------------------------- ----------- 41.0/59.7 kB 495.5 kB/s eta 0:00:01\n",
      "     -------------------------------------- 59.7/59.7 kB 454.2 kB/s eta 0:00:00\n",
      "Downloading numpy-2.1.1-cp311-cp311-win_amd64.whl (12.9 MB)\n",
      "   ---------------------------------------- 0.0/12.9 MB ? eta -:--:--\n",
      "    --------------------------------------- 0.3/12.9 MB 6.5 MB/s eta 0:00:02\n",
      "   --- ------------------------------------ 1.2/12.9 MB 12.6 MB/s eta 0:00:01\n",
      "   ----- ---------------------------------- 1.9/12.9 MB 13.4 MB/s eta 0:00:01\n",
      "   ------ --------------------------------- 2.0/12.9 MB 11.6 MB/s eta 0:00:01\n",
      "   ------- -------------------------------- 2.3/12.9 MB 10.6 MB/s eta 0:00:01\n",
      "   -------- ------------------------------- 2.6/12.9 MB 10.3 MB/s eta 0:00:02\n",
      "   --------- ------------------------------ 2.9/12.9 MB 8.8 MB/s eta 0:00:02\n",
      "   --------- ------------------------------ 3.0/12.9 MB 8.0 MB/s eta 0:00:02\n",
      "   ---------- ----------------------------- 3.3/12.9 MB 8.0 MB/s eta 0:00:02\n",
      "   ---------- ----------------------------- 3.4/12.9 MB 7.4 MB/s eta 0:00:02\n",
      "   ---------- ----------------------------- 3.5/12.9 MB 6.9 MB/s eta 0:00:02\n",
      "   ----------- ---------------------------- 3.6/12.9 MB 6.5 MB/s eta 0:00:02\n",
      "   ----------- ---------------------------- 3.7/12.9 MB 6.2 MB/s eta 0:00:02\n",
      "   ----------- ---------------------------- 3.8/12.9 MB 6.0 MB/s eta 0:00:02\n",
      "   ------------ --------------------------- 4.0/12.9 MB 5.8 MB/s eta 0:00:02\n",
      "   ------------ --------------------------- 4.1/12.9 MB 5.5 MB/s eta 0:00:02\n",
      "   ------------- -------------------------- 4.3/12.9 MB 5.4 MB/s eta 0:00:02\n",
      "   ------------- -------------------------- 4.4/12.9 MB 5.4 MB/s eta 0:00:02\n",
      "   -------------- ------------------------- 4.5/12.9 MB 5.1 MB/s eta 0:00:02\n",
      "   -------------- ------------------------- 4.7/12.9 MB 5.1 MB/s eta 0:00:02\n",
      "   --------------- ------------------------ 4.9/12.9 MB 5.0 MB/s eta 0:00:02\n",
      "   --------------- ------------------------ 5.1/12.9 MB 5.0 MB/s eta 0:00:02\n",
      "   ---------------- ----------------------- 5.2/12.9 MB 4.9 MB/s eta 0:00:02\n",
      "   ----------------- ---------------------- 5.5/12.9 MB 4.9 MB/s eta 0:00:02\n",
      "   ----------------- ---------------------- 5.7/12.9 MB 4.9 MB/s eta 0:00:02\n",
      "   ------------------ --------------------- 5.8/12.9 MB 4.8 MB/s eta 0:00:02\n",
      "   ------------------ --------------------- 6.1/12.9 MB 4.8 MB/s eta 0:00:02\n",
      "   ------------------- -------------------- 6.3/12.9 MB 4.8 MB/s eta 0:00:02\n",
      "   -------------------- ------------------- 6.5/12.9 MB 4.8 MB/s eta 0:00:02\n",
      "   --------------------- ------------------ 6.8/12.9 MB 4.8 MB/s eta 0:00:02\n",
      "   --------------------- ------------------ 7.0/12.9 MB 4.9 MB/s eta 0:00:02\n",
      "   ---------------------- ----------------- 7.3/12.9 MB 4.9 MB/s eta 0:00:02\n",
      "   ----------------------- ---------------- 7.6/12.9 MB 4.9 MB/s eta 0:00:02\n",
      "   ------------------------ --------------- 7.9/12.9 MB 5.0 MB/s eta 0:00:01\n",
      "   ------------------------- -------------- 8.2/12.9 MB 5.0 MB/s eta 0:00:01\n",
      "   -------------------------- ------------- 8.6/12.9 MB 5.1 MB/s eta 0:00:01\n",
      "   --------------------------- ------------ 9.0/12.9 MB 5.2 MB/s eta 0:00:01\n",
      "   ----------------------------- ---------- 9.3/12.9 MB 5.3 MB/s eta 0:00:01\n",
      "   ------------------------------ --------- 9.7/12.9 MB 5.3 MB/s eta 0:00:01\n",
      "   ------------------------------ --------- 9.9/12.9 MB 5.3 MB/s eta 0:00:01\n",
      "   ------------------------------- -------- 10.1/12.9 MB 5.3 MB/s eta 0:00:01\n",
      "   -------------------------------- ------- 10.4/12.9 MB 5.3 MB/s eta 0:00:01\n",
      "   --------------------------------- ------ 10.6/12.9 MB 5.2 MB/s eta 0:00:01\n",
      "   --------------------------------- ------ 10.9/12.9 MB 5.2 MB/s eta 0:00:01\n",
      "   ---------------------------------- ----- 11.2/12.9 MB 5.1 MB/s eta 0:00:01\n",
      "   ----------------------------------- ---- 11.6/12.9 MB 5.0 MB/s eta 0:00:01\n",
      "   ------------------------------------ --- 11.8/12.9 MB 5.0 MB/s eta 0:00:01\n",
      "   ------------------------------------- -- 12.1/12.9 MB 4.9 MB/s eta 0:00:01\n",
      "   -------------------------------------- - 12.3/12.9 MB 4.9 MB/s eta 0:00:01\n",
      "   -------------------------------------- - 12.5/12.9 MB 4.9 MB/s eta 0:00:01\n",
      "   ---------------------------------------  12.8/12.9 MB 4.8 MB/s eta 0:00:01\n",
      "   ---------------------------------------  12.9/12.9 MB 4.9 MB/s eta 0:00:01\n",
      "   ---------------------------------------- 12.9/12.9 MB 4.7 MB/s eta 0:00:00\n",
      "Installing collected packages: numpy\n",
      "Successfully installed numpy-2.1.1\n",
      "Note: you may need to restart the kernel to use updated packages.\n"
     ]
    },
    {
     "name": "stderr",
     "output_type": "stream",
     "text": [
      "\n",
      "[notice] A new release of pip is available: 23.2.1 -> 24.2\n",
      "[notice] To update, run: python.exe -m pip install --upgrade pip\n"
     ]
    }
   ],
   "source": [
    "pip install numpy\n"
   ]
  },
  {
   "cell_type": "code",
   "execution_count": null,
   "id": "bf0aac3d",
   "metadata": {},
   "outputs": [],
   "source": [
    "import numpy as np\n",
    "import pandas as pd"
   ]
  },
  {
   "cell_type": "code",
   "execution_count": null,
   "id": "39eb83c3",
   "metadata": {},
   "outputs": [],
   "source": [
    "pip install --upgrade numpy pandas\n"
   ]
  },
  {
   "cell_type": "code",
   "execution_count": null,
   "id": "b41f81b9",
   "metadata": {},
   "outputs": [],
   "source": [
    "print(np.__version__)\n",
    "print(pd.__version__)\n"
   ]
  },
  {
   "cell_type": "code",
   "execution_count": null,
   "id": "111240d0",
   "metadata": {},
   "outputs": [],
   "source": [
    "import pandas as pd"
   ]
  },
  {
   "cell_type": "code",
   "execution_count": null,
   "id": "b40fbd1d",
   "metadata": {},
   "outputs": [],
   "source": [
    "from sklearn.metrics import roc_curve, roc_auc_score\n",
    "import matplotlib.pyplot as plt\n"
   ]
  },
  {
   "cell_type": "code",
   "execution_count": null,
   "id": "2e44d37a",
   "metadata": {},
   "outputs": [],
   "source": [
    "import matplotlib.pyplot as plt\n"
   ]
  },
  {
   "cell_type": "code",
   "execution_count": null,
   "id": "f7791f70",
   "metadata": {},
   "outputs": [],
   "source": [
    "from sklearn.model_selection import train_test_split"
   ]
  },
  {
   "cell_type": "code",
   "execution_count": null,
   "id": "eb027c10",
   "metadata": {},
   "outputs": [],
   "source": [
    "from sklearn.ensemble import RandomForestClassifier"
   ]
  },
  {
   "cell_type": "code",
   "execution_count": null,
   "id": "e33ef095",
   "metadata": {},
   "outputs": [],
   "source": [
    "from sklearn.metrics import accuracy_score, precision_score, recall_score, f1_score, confusion_matrix, classification_report"
   ]
  },
  {
   "cell_type": "code",
   "execution_count": null,
   "id": "0e4fc96d",
   "metadata": {},
   "outputs": [],
   "source": [
    "pip install --upgrade seaborn scipy"
   ]
  },
  {
   "cell_type": "code",
   "execution_count": null,
   "id": "da7ae3f4",
   "metadata": {},
   "outputs": [],
   "source": [
    "pip install --upgrade seaborn scipy"
   ]
  },
  {
   "cell_type": "markdown",
   "id": "80150e3a",
   "metadata": {},
   "source": [
    "# Importing Dataset"
   ]
  },
  {
   "cell_type": "code",
   "execution_count": null,
   "id": "5978c146",
   "metadata": {},
   "outputs": [],
   "source": [
    "file_path = 'r'C:\Users\Ashish\Documents\DATA ANALYSIS\Boston Consulting Group Virtual Internship\Task 4\data_for_predictions.csv",
    "df = pd.read_csv(file_path)\n",
    "\n",
    "\n",
    "# Displaying the first 5 rows\n",
    "df.head()"
   ]
  },
  {
   "cell_type": "markdown",
   "id": "42d7749b",
   "metadata": {},
   "source": [
    "# Data Preparation: Dropping irrelevant columns\n"
   ]
  },
  {
   "cell_type": "code",
   "execution_count": null,
   "id": "b52c5d38",
   "metadata": {},
   "outputs": [],
   "source": [
    "df_cleaned = df.drop(columns=['Unnamed: 0', 'id'])"
   ]
  },
  {
   "cell_type": "code",
   "execution_count": null,
   "id": "74da7db7",
   "metadata": {},
   "outputs": [],
   "source": [
    "df_cleaned.head()\n",
    "# for checkin that the two data columns have been successfully  droped"
   ]
  },
  {
   "cell_type": "code",
   "execution_count": null,
   "id": "2cac27bf",
   "metadata": {},
   "outputs": [],
   "source": [
    "# Defining features (X) and target (y)\n",
    "X = df_cleaned.drop(columns=['churn'])  # Features\n",
    "y = df_cleaned['churn']  # Target"
   ]
  },
  {
   "cell_type": "code",
   "execution_count": null,
   "id": "38e7bf68",
   "metadata": {},
   "outputs": [],
   "source": [
    "# Splitting the data into training and testing sets (80% train, 20% test)\n",
    "X_train, X_test, y_train, y_test = train_test_split(X, y, test_size=0.2, random_state=42)\n",
    "\n",
    "\n",
    "# Why 42?\n",
    "#The number 42 doesn't have any special meaning in machine learning.\n",
    "#It became popular because of a joke from the book The Hitchhiker's Guide to the Galaxy, where the number 42 is the \"Answer to the Ultimate Question of Life, the Universe, and Everything.\"\n",
    "#You can use any number (e.g., random_state=1, random_state=100, etc.), but 42 has become a common convention."
   ]
  },
  {
   "cell_type": "code",
   "execution_count": null,
   "id": "9fa1812a",
   "metadata": {},
   "outputs": [],
   "source": [
    "# Initializing the Random Forest Classifier\n",
    "rf_classifier = RandomForestClassifier(random_state=42, class_weight='balanced')"
   ]
  },
  {
   "cell_type": "code",
   "execution_count": null,
   "id": "18f6d59b",
   "metadata": {},
   "outputs": [],
   "source": [
    "# Training the model\n",
    "rf_classifier.fit(X_train, y_train)"
   ]
  },
  {
   "cell_type": "code",
   "execution_count": null,
   "id": "74de1775",
   "metadata": {},
   "outputs": [],
   "source": [
    "# Making predictions on the test set\n",
    "y_pred = rf_classifier.predict(X_test)"
   ]
  },
  {
   "cell_type": "code",
   "execution_count": null,
   "id": "6a51f674",
   "metadata": {},
   "outputs": [],
   "source": [
    "# Model Evaluation\n",
    "accuracy = accuracy_score(y_test, y_pred)\n",
    "precision = precision_score(y_test, y_pred)\n",
    "recall = recall_score(y_test, y_pred)\n",
    "f1 = f1_score(y_test, y_pred)\n",
    "conf_matrix = confusion_matrix(y_test, y_pred)\n",
    "class_report = classification_report(y_test, y_pred)"
   ]
  },
  {
   "cell_type": "code",
   "execution_count": null,
   "id": "cd8c349b",
   "metadata": {},
   "outputs": [],
   "source": [
    "# Printing Evaluation Metrics\n",
    "print(f'Accuracy: {accuracy:.4f}')\n",
    "print(f'Precision: {precision:.4f}')\n",
    "print(f'Recall: {recall:.4f}')\n",
    "print(f'F1 Score: {f1:.4f}')\n",
    "print('\\nConfusion Matrix:')\n",
    "print(conf_matrix)\n",
    "print('\\nClassification Report:')\n",
    "print(class_report)"
   ]
  },
  {
   "cell_type": "code",
   "execution_count": null,
   "id": "b2e075c1",
   "metadata": {},
   "outputs": [],
   "source": [
    "'''Explanation of Evaluation Metrics:\n",
    "Accuracy: Measures the overall percentage of correct predictions. It's a good starting point, but it may not be the best metric if the dataset is imbalanced.\n",
    "\n",
    "Precision: It tells you how many of the churn predictions were actually correct. High precision means fewer false positives.\n",
    "\n",
    "Recall: Measures how many actual churn cases the model correctly identified. High recall means the model catches most of the churners.\n",
    "\n",
    "F1 Score: A balanced measure that considers both precision and recall. It's useful when you need to balance between precision and recall, especially in the case of imbalanced data.\n",
    "\n",
    "Confusion Matrix: Helps visualize true positives, true negatives, false positives, and false negatives, giving insight into where the model makes errors.\n",
    "\n",
    "'''"
   ]
  },
  {
   "cell_type": "code",
   "execution_count": null,
   "id": "49b242ec",
   "metadata": {},
   "outputs": [],
   "source": [
    "'''Model Performance:\n",
    "After calculating these metrics, check the results to see if the model is doing well. For instance:\n",
    "High precision means fewer false positives.\n",
    "High recall indicates the model catches most churn cases.\n",
    "If your dataset is imbalanced (e.g., very few churn cases), focus more on recall and F1 score.'''"
   ]
  },
  {
   "cell_type": "code",
   "execution_count": null,
   "id": "c294c019",
   "metadata": {},
   "outputs": [],
   "source": [
    "# ROC Curve and AUC Score\n",
    "y_prob = rf_classifier.predict_proba(X_test)[:, 1]\n",
    "fpr, tpr, thresholds = roc_curve(y_test, y_prob)\n",
    "auc_score = roc_auc_score(y_test, y_prob)\n",
    "\n",
    "plt.figure(figsize=(8, 6))\n",
    "plt.plot(fpr, tpr, label=f\"ROC Curve (AUC = {auc_score:.2f})\")\n",
    "plt.xlabel('False Positive Rate')\n",
    "plt.ylabel('True Positive Rate')\n",
    "plt.title('ROC Curve')\n",
    "plt.legend()\n",
    "plt.show()"
   ]
  },
  {
   "cell_type": "code",
   "execution_count": null,
   "id": "21ce5c96",
   "metadata": {},
   "outputs": [],
   "source": [
    "# Confusion Matrix Heatmap\n",
    "plt.figure(figsize=(6, 4))\n",
    "sns.heatmap(conf_matrix, annot=True, fmt='d', cmap='Blues', xticklabels=['No Churn', 'Churn'], yticklabels=['No Churn', 'Churn'])\n",
    "plt.xlabel('Predicted')\n",
    "plt.ylabel('Actual')\n",
    "plt.title('Confusion Matrix')\n",
    "plt.show()\n"
   ]
  },
  {
   "cell_type": "code",
   "execution_count": null,
   "id": "6feb0659",
   "metadata": {},
   "outputs": [],
   "source": [
    "# Visualize Churn vs Non-Churn Predictions\n",
    "churn_count = pd.Series(y_pred).value_counts()\n",
    "plt.figure(figsize=(6, 4))\n",
    "sns.barplot(x=churn_count.index, y=churn_count.values, palette='Set2')\n",
    "plt.title('Predicted Churn vs Non-Churn')\n",
    "plt.xlabel('Churn (1) vs Non-Churn (0)')\n",
    "plt.ylabel('Count')\n",
    "plt.show()"
   ]
  },
  {
   "cell_type": "code",
   "execution_count": null,
   "id": "acfdac05",
   "metadata": {},
   "outputs": [],
   "source": []
  },
  {
   "cell_type": "code",
   "execution_count": null,
   "id": "e5c2bb0b",
   "metadata": {},
   "outputs": [],
   "source": []
  },
  {
   "cell_type": "code",
   "execution_count": null,
   "id": "85313988",
   "metadata": {},
   "outputs": [],
   "source": []
  }
 ],
 "metadata": {
  "kernelspec": {
   "display_name": "Python 3 (ipykernel)",
   "language": "python",
   "name": "python3"
  },
  "language_info": {
   "codemirror_mode": {
    "name": "ipython",
    "version": 3
   },
   "file_extension": ".py",
   "mimetype": "text/x-python",
   "name": "python",
   "nbconvert_exporter": "python",
   "pygments_lexer": "ipython3",
   "version": "3.11.7"
  }
 },
 "nbformat": 4,
 "nbformat_minor": 5
}
